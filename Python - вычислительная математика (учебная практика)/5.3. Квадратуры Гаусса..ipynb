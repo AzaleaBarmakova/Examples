{
 "cells": [
  {
   "cell_type": "code",
   "execution_count": 1,
   "metadata": {},
   "outputs": [],
   "source": [
    "%matplotlib inline \n",
    "#Импротируем необходимые функции\n",
    "import numpy as np # работа с массивами и линейной алгеброй\n",
    "import matplotlib.pyplot as plt # для отрисовки графиков\n",
    "import scipy.linalg as la # функции линейной алгебры\n",
    "import math as math\n",
    "\n",
    "from scipy import integrate"
   ]
  },
  {
   "cell_type": "markdown",
   "metadata": {},
   "source": [
    "### Задача №5.3. Квадратуры Гаусса."
   ]
  },
  {
   "cell_type": "code",
   "execution_count": 2,
   "metadata": {},
   "outputs": [],
   "source": [
    "#Зададим интегрируемую функцию\n",
    "f = lambda x: np.exp(x)\n",
    "\n",
    "#Зададим количество узлов и границы отрезка\n",
    "n = 5\n",
    "left = -1\n",
    "right = 1"
   ]
  },
  {
   "cell_type": "code",
   "execution_count": 3,
   "metadata": {},
   "outputs": [],
   "source": [
    "#В качестве узлов квадратурной формулы берем корни (нули) полиномов Лежандра\n",
    "def Gaussian_quadrature_Points(n):\n",
    "    A = np.zeros(n+1)\n",
    "    A[n] = 1\n",
    "    L_n = np.polynomial.legendre.Legendre(A)\n",
    "    return L_n.roots()"
   ]
  },
  {
   "cell_type": "code",
   "execution_count": 4,
   "metadata": {},
   "outputs": [],
   "source": [
    "#Так как мы хотим, чтобы квадратурная формула была точна для многочленов, то для каждого i = 0,1,..2n-1 должно выполняться\n",
    "def Gaussian_quadrature_Weights(points, n):\n",
    "    A = np.zeros((n, n))\n",
    "    b = np.zeros(n)\n",
    "    for i in range (n):\n",
    "        A[i] = points ** i\n",
    "        b[i] = (1 + (-1)**i) /(i + 1)\n",
    "    #print(np.polynomial.legendre.legweight(points))\n",
    "    return np.linalg.solve(A, b)"
   ]
  },
  {
   "cell_type": "code",
   "execution_count": 5,
   "metadata": {},
   "outputs": [],
   "source": [
    "#вычисляем интеграл\n",
    "def Gaussian_quadrature(points, weights, f, n, left, right):\n",
    "    answer = 0\n",
    "    for i in range (n):\n",
    "        x = points[i] *(right-left) / 2 + (right+left) / 2\n",
    "        answer += f(x) * weights[i] \n",
    "    answer = answer * (right - left) / 2\n",
    "    return answer"
   ]
  },
  {
   "cell_type": "code",
   "execution_count": 6,
   "metadata": {},
   "outputs": [
    {
     "name": "stdout",
     "output_type": "stream",
     "text": [
      "[-0.90617985 -0.53846931  0.          0.53846931  0.90617985]\n",
      "[0.23692689 0.47862867 0.56888889 0.47862867 0.23692689]\n",
      "[-9.06179846e-01 -5.38469310e-01  7.47000758e-17  5.38469310e-01\n",
      "  9.06179846e-01]\n",
      "[0.23692689 0.47862867 0.56888889 0.47862867 0.23692689]\n"
     ]
    }
   ],
   "source": [
    "#стандартная функция, вычисляющая узлы и веса квадратуры Гаусса\n",
    "points, weights = np.polynomial.legendre.leggauss(n)\n",
    "print(points)\n",
    "print(weights)\n",
    "\n",
    "#Мои функции, которые вычисляют узлы и веса квадратуры Гаусса\n",
    "points1 = Gaussian_quadrature_Points(n)\n",
    "weights1 = Gaussian_quadrature_Weights(points1, n)\n",
    "print(points1)\n",
    "print(weights1)"
   ]
  },
  {
   "cell_type": "code",
   "execution_count": 7,
   "metadata": {},
   "outputs": [
    {
     "name": "stdout",
     "output_type": "stream",
     "text": [
      "[6.66133815e-16 2.22044605e-16 7.47000758e-17 1.11022302e-16\n",
      " 3.33066907e-16]\n",
      "[1.33226763e-15 8.88178420e-16 3.33066907e-16 4.44089210e-16\n",
      " 1.38777878e-16]\n"
     ]
    }
   ],
   "source": [
    "#расмотрим разность между узлами и весами, вычисленными стандартной функцией\n",
    "#и узлами и весами, вычисленными нашей функцией\n",
    "print(np.abs(points - points1))\n",
    "print(np.abs(weights - weights1))"
   ]
  },
  {
   "cell_type": "code",
   "execution_count": 8,
   "metadata": {},
   "outputs": [
    {
     "name": "stdout",
     "output_type": "stream",
     "text": [
      "2.3504023872876028\n",
      "2.350402386462826\n"
     ]
    }
   ],
   "source": [
    "#Значение интеграла, вычисленный стандартной функцией\n",
    "answer = integrate.quad(f, left, right)\n",
    "print(answer[0])\n",
    "\n",
    "#Значение интеграла, вычисленный с помощью квадратуры Гаусса\n",
    "answer1 = Gaussian_quadrature(points1, weights1, f, n, left, right)\n",
    "print(answer1)"
   ]
  },
  {
   "cell_type": "code",
   "execution_count": 9,
   "metadata": {},
   "outputs": [
    {
     "name": "stdout",
     "output_type": "stream",
     "text": [
      "8.247766913882515e-10\n"
     ]
    }
   ],
   "source": [
    "#рассмотрим модуль разности между результатами\n",
    "print(np.abs(answer[0] - answer1))"
   ]
  },
  {
   "cell_type": "code",
   "execution_count": null,
   "metadata": {},
   "outputs": [],
   "source": []
  }
 ],
 "metadata": {
  "kernelspec": {
   "display_name": "Python 3",
   "language": "python",
   "name": "python3"
  },
  "language_info": {
   "codemirror_mode": {
    "name": "ipython",
    "version": 3
   },
   "file_extension": ".py",
   "mimetype": "text/x-python",
   "name": "python",
   "nbconvert_exporter": "python",
   "pygments_lexer": "ipython3",
   "version": "3.6.5"
  }
 },
 "nbformat": 4,
 "nbformat_minor": 2
}
