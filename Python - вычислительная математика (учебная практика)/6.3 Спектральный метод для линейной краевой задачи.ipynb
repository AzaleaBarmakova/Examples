{
 "cells": [
  {
   "cell_type": "code",
   "execution_count": 1,
   "metadata": {},
   "outputs": [],
   "source": [
    "%matplotlib inline \n",
    "#Импротируем необходимые функции\n",
    "import numpy as np # работа с массивами и линейной алгеброй\n",
    "import matplotlib.pyplot as plt # для отрисовки графиков\n",
    "import scipy.linalg as la # функции линейной алгебры\n",
    "import math as math"
   ]
  },
  {
   "cell_type": "markdown",
   "metadata": {},
   "source": [
    "### Задача №6.3. Спектральный метод для линейной краевой задачи."
   ]
  },
  {
   "cell_type": "code",
   "execution_count": 2,
   "metadata": {},
   "outputs": [],
   "source": [
    "#Зададим функцию в правой части: u''(x) = f(x)\n",
    "f = lambda x: np.exp(x)\n",
    "u = lambda x: np.exp(x) + 6*x + 8\n",
    "\n",
    "#Зададим границы отрезка и максимальное число узлов\n",
    "n = 20\n",
    "left = -1\n",
    "right = 1\n",
    "\n",
    "#Зададим граничные условия\n",
    "a = u(left)\n",
    "b = u(right)"
   ]
  },
  {
   "cell_type": "code",
   "execution_count": 3,
   "metadata": {},
   "outputs": [],
   "source": [
    "#Функция, для вычисления узлов Чебышева \n",
    "def Chebyshev_nodes(left, right, n):\n",
    "    i = np.arange(n)\n",
    "    x_n = (left + right + (right - left) * np.cos(np.pi/(2*n) + np.pi * i / n))/2\n",
    "    return x_n"
   ]
  },
  {
   "cell_type": "code",
   "execution_count": 4,
   "metadata": {},
   "outputs": [],
   "source": [
    "#для того, чтобы вычислить коэффициенты разложения, воспользуемся методом неопределенных коэф.\n",
    "def method_of_undetermined_coefficients(x, x0):\n",
    "    k = len(x)\n",
    "    A = np.ones((k,k))\n",
    "    for i in range(1, k):\n",
    "        A[i] = (x - x0)**i / math.factorial(i)\n",
    "    #print(A)\n",
    "    b = np.zeros(k)\n",
    "    b[2] = 1\n",
    "    return np.linalg.solve(A, b)"
   ]
  },
  {
   "cell_type": "code",
   "execution_count": 5,
   "metadata": {},
   "outputs": [],
   "source": [
    "def Spectral_method(f, n, left, right, a, b):\n",
    "    x_k = Chebyshev_nodes(left, right, n)\n",
    "    #раскладываем по всем точкам, включая граничные, поэтому в массив х добавляем границы\n",
    "    x = np.zeros(n+2)\n",
    "    x[0]= left\n",
    "    x[n+1] = right\n",
    "    for i in range(1, n+1):\n",
    "        x[i] = x_k[i-1] \n",
    "    \n",
    "    #в конечной системе уравнений берем только узлы Чебышева\n",
    "    A = np.zeros((n,n))\n",
    "    F = f(x_k)\n",
    "    for i in range(n):\n",
    "        #вектор коэффициентов, полученных методом неопр.коэф.\n",
    "        temp = method_of_undetermined_coefficients(x, x_k[i])\n",
    "        #отбрасываем константы\n",
    "        F[i] = F[i] - temp[0] * a - temp[len(x)-1] * b\n",
    "        #в конечную систему записываем temp, отбросив последний и первый коэф.\n",
    "        #так как они соответствуют константам\n",
    "        for j in range(0, n):\n",
    "            A[i][j] = temp[j+1]\n",
    "    #print(A, F)\n",
    "    return (x_k, np.linalg.solve(A, F))"
   ]
  },
  {
   "cell_type": "code",
   "execution_count": 6,
   "metadata": {},
   "outputs": [
    {
     "data": {
      "text/plain": [
       "[<matplotlib.lines.Line2D at 0x1aebfab0c50>]"
      ]
     },
     "execution_count": 6,
     "metadata": {},
     "output_type": "execute_result"
    },
    {
     "data": {
      "image/png": "[encoded data removed]",
      "text/plain": [
       "<Figure size 432x288 with 1 Axes>"
      ]
     },
     "metadata": {},
     "output_type": "display_data"
    }
   ],
   "source": [
    "x, U = Spectral_method(f, n, left, right, a, b)\n",
    "#график точного решения и нашего\n",
    "xx = np.linspace(left, right, 10000)\n",
    "plt.plot(xx, u(xx))\n",
    "plt.plot(x, U, 'ro')\n",
    "plt.plot(left, a, 'bx')\n",
    "plt.plot(right, b, 'gx')"
   ]
  },
  {
   "cell_type": "markdown",
   "metadata": {},
   "source": [
    "### Построим график зависимости ошибки от числа узлов в логарифмической шкале."
   ]
  },
  {
   "cell_type": "code",
   "execution_count": 7,
   "metadata": {},
   "outputs": [],
   "source": [
    "Err = np.zeros(n)\n",
    "for i in range (1, n+1):\n",
    "    x, U = Spectral_method(f, i, left, right, a, b)\n",
    "    uex = u(x)\n",
    "    Err[i-1] = np.linalg.norm(U - uex)"
   ]
  },
  {
   "cell_type": "code",
   "execution_count": 8,
   "metadata": {},
   "outputs": [
    {
     "data": {
      "text/plain": [
       "[<matplotlib.lines.Line2D at 0x1aebfb33208>]"
      ]
     },
     "execution_count": 8,
     "metadata": {},
     "output_type": "execute_result"
    },
    {
     "data": {
      "image/png": "[encoded data removed]",
      "text/plain": [
       "<Figure size 432x288 with 1 Axes>"
      ]
     },
     "metadata": {},
     "output_type": "display_data"
    }
   ],
   "source": [
    "x = np.linspace(0, n-1, n)\n",
    "#plt.semilogy(x, Err)\n",
    "plt.loglog(x, Err)"
   ]
  }
 ],
 "metadata": {
  "kernelspec": {
   "display_name": "Python 3",
   "language": "python",
   "name": "python3"
  },
  "language_info": {
   "codemirror_mode": {
    "name": "ipython",
    "version": 3
   },
   "file_extension": ".py",
   "mimetype": "text/x-python",
   "name": "python",
   "nbconvert_exporter": "python",
   "pygments_lexer": "ipython3",
   "version": "3.6.5"
  }
 },
 "nbformat": 4,
 "nbformat_minor": 2
}
