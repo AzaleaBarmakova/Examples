{
 "cells": [
  {
   "cell_type": "code",
   "execution_count": 1,
   "metadata": {
    "collapsed": true
   },
   "outputs": [],
   "source": [
    "%matplotlib inline \n",
    "#Импротируем необходимые функции\n",
    "import numpy as np # работа с массивами и линейной алгеброй\n",
    "import matplotlib.pyplot as plt # для отрисовки графиков\n",
    "import scipy.linalg as la # функции линейной алгебры\n",
    "import math as math"
   ]
  },
  {
   "cell_type": "code",
   "execution_count": 2,
   "metadata": {},
   "outputs": [],
   "source": [
    "# Формируем матрицы и находим решение через стандартную функцию. (потом сравним с результатом моего решения)\n",
    "n = 3\n",
    "A = np.random.rand(n, n)\n",
    "b = np.random.rand(n)\n",
    "x_table = np.linalg.solve(A,b)\n",
    "#print(A)"
   ]
  },
  {
   "cell_type": "code",
   "execution_count": 3,
   "metadata": {},
   "outputs": [],
   "source": [
    "# Напишем функцию, которая будет разлагать матрицу А на матрицы L(нижнетреугольная, на диагонали единички) и U(верхнетреугольная),\n",
    "#и выдаст вектор перестановок\n",
    "def Gauss_dissolution(A, b, n):\n",
    "    L = np.zeros((n,n))\n",
    "    U = A\n",
    "    #print(U,'\\n')\n",
    "    P = np.ones(n)\n",
    "    for i in range (n - 1): # Идем по строкам с самой первой\n",
    "        #print(i, ' \\n')\n",
    "        max_el = math.fabs( U[i, i] ) # Берем первый элемент как максимальный\n",
    "        #print(max_el, ' \\n')\n",
    "        max_i = i # номер максимального элемента\n",
    "        for m in range(i, n): #найдем главный элемент первого столбца\n",
    "            if math.fabs(U[m, i]) > max_el: # находим максимальный элемент в столбце\n",
    "                max_el = U[m,i]\n",
    "                max_i = m\n",
    "        if max_el != 0:\n",
    "            if max_i == i: #наш диагональный элемент максимален -- ничего не меняем\n",
    "                P[i] = i\n",
    "            elif max_i > i: # меняем местами\n",
    "                for x in range (n):\n",
    "                    temp = b[i]\n",
    "                    b[i] = b[max_i]\n",
    "                    b[max_i] = temp\n",
    "                    #print ('max_i > i')\n",
    "                    temp = L[i, x]\n",
    "                    L[i, x] = L[max_i, x]\n",
    "                    L[max_i, x] = temp\n",
    "                    temp = U[i, x]\n",
    "                    U[i, x] = U[max_i, x]\n",
    "                    U[max_i, x] = temp\n",
    "                    #print(U, '\\n')\n",
    "                P[i] = max_i # зафиксировали изменение в матрице перестановок\n",
    "            L[i,i] = 1\n",
    "            for j in range(i + 1, n): #начинаем проход по подматричке --это строки подматрички(формируем U)\n",
    "                L[j, i] = U[j, i] / U[i, i] \n",
    "                for k in range(i, n):\n",
    "                    U[j, k] = U[j,k] - L[j, i] * U[i, k]\n",
    "    L[n-1, n-1] = 1\n",
    "    P[n - 1] = n - 1\n",
    "    return (L, U, P, b)"
   ]
  },
  {
   "cell_type": "code",
   "execution_count": 4,
   "metadata": {},
   "outputs": [],
   "source": [
    "# Проверим, как работает моя функция. (я забыла функцию,что разделяет матрицы l и U)\n",
    "A1 = A\n",
    "LU, piv = la.lu_factor(A1)\n",
    "#print(piv)\n",
    "#print(LU)\n",
    "#print(b)\n",
    "my_L, my_U, my_P, my_b = Gauss_dissolution(A, b, n)\n",
    "#print(my_L)\n",
    "#print(my_U)\n",
    "#print(my_P)\n",
    "#print(my_b)"
   ]
  },
  {
   "cell_type": "code",
   "execution_count": 5,
   "metadata": {},
   "outputs": [],
   "source": [
    "#решим систему уравнений: Ly = b\n",
    "y = np.zeros(n)\n",
    "for i in range(n):\n",
    "    y[i] = my_b[i]\n",
    "    for j in range(i-1, -1, -1):\n",
    "        y[i] = y[i] - y[j]*my_L[i, j]\n",
    "#print(y)\n",
    "\n",
    "#проверим решение\n",
    "x = np.linalg.solve(my_L,my_b)\n",
    "#print(x)"
   ]
  },
  {
   "cell_type": "code",
   "execution_count": 6,
   "metadata": {},
   "outputs": [
    {
     "name": "stdout",
     "output_type": "stream",
     "text": [
      "[-0.04276509  0.51975798 -0.28884701]\n",
      "[-0.04276509  0.51975798 -0.28884701]\n",
      "[-0.04276509  0.51975798 -0.28884701]\n"
     ]
    }
   ],
   "source": [
    "#решим систему уравнений: Ux = y\n",
    "x = np.zeros(n)\n",
    "for i in range(n-1, -1, -1):\n",
    "    x[i] = y[i]\n",
    "    for j in range(i+1, n):\n",
    "        x[i] = x[i] - x[j]*my_U[i, j]\n",
    "    x[i] = x[i] / my_U[i,i]\n",
    "print(x)\n",
    "\n",
    "#проверим решение\n",
    "x1 = np.linalg.solve(my_U,y)\n",
    "print(x1)\n",
    "print(x_table) #то, что мы получили встроенной функцией"
   ]
  },
  {
   "cell_type": "code",
   "execution_count": 7,
   "metadata": {},
   "outputs": [
    {
     "name": "stdout",
     "output_type": "stream",
     "text": [
      "1.3092278833360675e-16\n"
     ]
    }
   ],
   "source": [
    "print(la.norm(x - x_table))"
   ]
  },
  {
   "cell_type": "code",
   "execution_count": null,
   "metadata": {
    "collapsed": true
   },
   "outputs": [],
   "source": []
  }
 ],
 "metadata": {
  "kernelspec": {
   "display_name": "Python 3",
   "language": "python",
   "name": "python3"
  },
  "language_info": {
   "codemirror_mode": {
    "name": "ipython",
    "version": 3
   },
   "file_extension": ".py",
   "mimetype": "text/x-python",
   "name": "python",
   "nbconvert_exporter": "python",
   "pygments_lexer": "ipython3",
   "version": "3.6.5"
  }
 },
 "nbformat": 4,
 "nbformat_minor": 1
}
