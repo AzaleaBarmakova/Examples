{
 "cells": [
  {
   "cell_type": "code",
   "execution_count": 1,
   "metadata": {},
   "outputs": [],
   "source": [
    "%matplotlib inline \n",
    "#Импротируем необходимые функции\n",
    "import numpy as np # работа с массивами и линейной алгеброй\n",
    "import matplotlib.pyplot as plt # для отрисовки графиков\n",
    "import scipy.linalg as la # функции линейной алгебры\n",
    "import math as math"
   ]
  },
  {
   "cell_type": "code",
   "execution_count": 2,
   "metadata": {},
   "outputs": [],
   "source": [
    "# Проверим, положительно ли определена матрица, проверив ее собственные значения\n",
    "def is_pos_def(x):\n",
    "    return np.all(np.linalg.eigvals(x) > 0)"
   ]
  },
  {
   "cell_type": "code",
   "execution_count": 3,
   "metadata": {},
   "outputs": [],
   "source": [
    "# Напишем функцию, которая будет разлагать матрицу А на матрицы C(нижнетреугольная) и C.T(верхнетреугольная)\n",
    "def Cholesky_dissolution(A, n):\n",
    "    C = np.zeros((n,n))\n",
    "    for j in range (n): # Идем по столбцам с самого первого\n",
    "        sum = 0 #сумма квадратов элементов строки до диагонального\n",
    "        for k in range (j):\n",
    "            sum = sum + C[j, k] ** 2\n",
    "        C[j, j] = math.sqrt(A[j, j] - sum) #диагональный элемент\n",
    "        for i in range (j+1, n): #спускаемся по столбцу вниз\n",
    "            sum = 0\n",
    "            for k in range (j):\n",
    "                sum = sum + C[i, k] * C[j, k]\n",
    "            C[i, j] = 1 / C[j, j] * (A[i, j] - sum)\n",
    "    #print(C)\n",
    "    \n",
    "    # Проверим, как работает функция разложения. \n",
    "    A1 = A\n",
    "    C1 = np.linalg.cholesky(A1)\n",
    "    #print(C1)\n",
    "    \n",
    "    return (C)"
   ]
  },
  {
   "cell_type": "code",
   "execution_count": 4,
   "metadata": {},
   "outputs": [],
   "source": [
    "#решим систему уравнений: Cy = b\n",
    "def Solve_Cy(C, b, n):\n",
    "    y = np.zeros(n)\n",
    "    for i in range(n):\n",
    "        y[i] = b[i]\n",
    "        for j in range(i-1, -1, -1):\n",
    "            y[i] = y[i] - y[j] * C[i, j]\n",
    "        y[i] = y[i] / C[i, i]\n",
    "    #print(y)\n",
    "    \n",
    "    #проверим решение\n",
    "    x = np.linalg.solve(C, b)\n",
    "    #print(x)\n",
    "    \n",
    "    return(y)"
   ]
  },
  {
   "cell_type": "code",
   "execution_count": 5,
   "metadata": {},
   "outputs": [],
   "source": [
    "#решим систему уравнений: C.T*x = y\n",
    "def Solve_CTx(C, y, n):\n",
    "    x = np.zeros(n)\n",
    "    for i in range(n-1, -1, -1):\n",
    "        x[i] = y[i]\n",
    "        for j in range(i+1, n):\n",
    "            x[i] = x[i] - x[j]*C.T[i, j]\n",
    "        x[i] = x[i] / C.T[i,i]\n",
    "    #print(x)\n",
    "\n",
    "    #проверим решение\n",
    "    x1 = np.linalg.solve(C.T,y)\n",
    "    #print(x1)\n",
    "    #print(x_table) #то, что мы получили встроенной функцией\n",
    "    \n",
    "    return(x)"
   ]
  },
  {
   "cell_type": "code",
   "execution_count": 6,
   "metadata": {},
   "outputs": [],
   "source": [
    "def Cholesky_method(A, b, n):\n",
    "    C = Cholesky_dissolution(A, n)\n",
    "    y = Solve_Cy(C, b, n)\n",
    "    x = Solve_CTx(C, y, n)\n",
    "    return(C, x)"
   ]
  },
  {
   "cell_type": "code",
   "execution_count": 24,
   "metadata": {},
   "outputs": [
    {
     "name": "stdout",
     "output_type": "stream",
     "text": [
      "False\n",
      "False\n",
      "False\n",
      "False\n",
      "False\n",
      "False\n",
      "False\n",
      "False\n",
      "False\n",
      "False\n",
      "False\n",
      "False\n",
      "False\n",
      "False\n",
      "False\n",
      "False\n",
      "False\n",
      "False\n",
      "True\n"
     ]
    }
   ],
   "source": [
    "# Формируем матрицы и находим решение через стандартную функцию. (потом сравним с результатом моего решения)\n",
    "n = 3\n",
    "A = np.random.rand(n, n)\n",
    "A = (A + A.T)/2 #чтобы получилась симметричная матрица\n",
    "while (is_pos_def(A) != 1): #проверка на положительность\n",
    "    A = np.random.rand(n, n)\n",
    "    A = (A + A.T)/2\n",
    "    #print(is_pos_def(A))\n",
    "b = np.random.rand(n)\n",
    "x_table = np.linalg.solve(A,b)\n",
    "#print(A)"
   ]
  },
  {
   "cell_type": "code",
   "execution_count": 25,
   "metadata": {},
   "outputs": [
    {
     "name": "stdout",
     "output_type": "stream",
     "text": [
      "[[0.95331769 0.         0.        ]\n",
      " [0.87763378 0.26378923 0.        ]\n",
      " [0.34413964 0.6852275  0.58652095]]\n",
      "[[0.95331769 0.         0.        ]\n",
      " [0.87763378 0.26378923 0.        ]\n",
      " [0.34413964 0.6852275  0.58652095]]\n"
     ]
    }
   ],
   "source": [
    "C, x =  Cholesky_method(A, b, n)\n",
    "print(C)\n",
    "C1 = np.linalg.cholesky(A)\n",
    "print(C1)"
   ]
  },
  {
   "cell_type": "code",
   "execution_count": 26,
   "metadata": {},
   "outputs": [
    {
     "name": "stdout",
     "output_type": "stream",
     "text": [
      "1.7162554193316897e-14\n"
     ]
    }
   ],
   "source": [
    "print(la.norm(x - x_table))"
   ]
  },
  {
   "cell_type": "code",
   "execution_count": null,
   "metadata": {},
   "outputs": [],
   "source": []
  }
 ],
 "metadata": {
  "kernelspec": {
   "display_name": "Python 3",
   "language": "python",
   "name": "python3"
  },
  "language_info": {
   "codemirror_mode": {
    "name": "ipython",
    "version": 3
   },
   "file_extension": ".py",
   "mimetype": "text/x-python",
   "name": "python",
   "nbconvert_exporter": "python",
   "pygments_lexer": "ipython3",
   "version": "3.6.5"
  }
 },
 "nbformat": 4,
 "nbformat_minor": 1
}
