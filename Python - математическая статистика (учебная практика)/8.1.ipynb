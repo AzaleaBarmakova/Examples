{
 "cells": [
  {
   "cell_type": "code",
   "execution_count": 1,
   "metadata": {},
   "outputs": [],
   "source": [
    "import numpy as np\n",
    "import math as math\n",
    "import random\n",
    "import csv\n",
    "import matplotlib.pyplot as plt\n",
    "\n",
    "%matplotlib inline"
   ]
  },
  {
   "cell_type": "markdown",
   "metadata": {},
   "source": [
    "### 8.Линейная регрессия. Задача 1.\n",
    "Условие: Загрузите данные из набора Forest Fires (файл forestfires.csv) о лесных пожарах в Португалии. Задача состоит в том, чтобы с помощью линейной регрессии научиться предсказывать координату area (площадь пожаров) в виде линейной комбинации других данных. \n",
    "\n",
    "Чтобы работать с числовыми координатами, нечисловые координаты (month, day) нужно перевести в числовые. Для простоты можно заменить координату month на индикатор летнего сезона, а координату day не использовать вообще. По желанию можно сделать преобразование другим способом. Также добавьте координату, тождественно равную единице (вес при этой координате интерпретируется как сдвиг).\n",
    "\n",
    "Разбейте выборку на две части в соотношении 7:3 (перемешав ее с помощью random.shuffle). По первой части постройте регрессионную модель. Примените модель ко второй части выборки и посчитайте по ней среднеквадратичную ошибку.\n",
    "Для переменной area выполните преобразование $f(x) = ln(x+c)$ и постройте для нее новую регр.модель. Посчитайте среднеквадратичную ошибку для преобразованных значений. При каком значении $c$ предсказания получаются лучше всего?\n",
    "\n",
    "При выбранном $c$ сделайте разбиение выборки в соотношении 7:3 разными способами (перемешивая каждый раз). Найдите способ оценить разброс качества от разбиения. Сильно ли меняется качество? Сделайте выводы."
   ]
  },
  {
   "cell_type": "code",
   "execution_count": 2,
   "metadata": {},
   "outputs": [],
   "source": [
    "#Cчитаем данные о пожарах и приведём их к удобному для нас формату\n",
    "def get_shuffled_data():\n",
    "    with open('forestfires.csv', 'r') as file:\n",
    "        main_data = list(csv.reader(file))\n",
    "    area = []\n",
    "    data = main_data[1:]\n",
    "    N = len(data)\n",
    "    for i in range(N):\n",
    "        #отбросим день\n",
    "        data[i].pop(3)\n",
    "        #координата, тождественно равная единице\n",
    "        data[i].append(1.0)\n",
    "\n",
    "    random.shuffle(data)    \n",
    "\n",
    "    for i in range(N):\n",
    "        #введем индикатор летнего сезона\n",
    "        data[i][2] = 1.0 if data[i][2] in ['jun', 'jul', 'aug'] else 0.0\n",
    "        data[i] = [float(number) for number in data[i]]\n",
    "        area.append(data[i][-2])\n",
    "        del (data[i][-2])\n",
    "       \n",
    "    return data, area"
   ]
  },
  {
   "cell_type": "code",
   "execution_count": 3,
   "metadata": {},
   "outputs": [],
   "source": [
    "data, area = get_shuffled_data()\n",
    "N = len(data)\n",
    "#print(N)"
   ]
  },
  {
   "cell_type": "markdown",
   "metadata": {},
   "source": [
    "###  Регрессионная модель. Теоретическое обоснование.\n",
    "\n",
    "В файле forestfires.csv дано $N$ векторов $X_1,\\dots, X_N$, имеющих $K = 13$\n",
    "координат.\n",
    "\n",
    "Рассмотрим вектор $X_i = (X_i^{1}, X_i^{2},\\dots,X_i^{K})$ дающий информацию о конкретном пожаре. Будем считать, что $\\forall i\\in\\{1,\\dots,N\\}$ мы измерили только координату $X_i^{K}$ (площадь пожара - area), а остальные данные $X_i^{1}, X_i^{2},\\dots,X_i^{K-1}$ нам известны. Тогда area можно представить как линейную комбинацию остальных данных: \n",
    "\n",
    "$$\\forall i\\in\\{1,\\dots,N\\} \\ \\ X_i^{K} = \\theta_1X_i^{1} + \\theta_2X_i^{2}+\\dots+\\theta_{K-1}X_i^{K-1}.$$\n",
    "Оценим параметры $\\theta = (\\theta_1,\\dots,\\theta_{K-1})^T$. \n",
    "\n",
    "$$\\hat \\theta=(Z^TZ)^{-1}Z^T X,$$\n",
    "\n",
    "где $X$ - данные о площадях пожаров, $Z$ - остальные данные.\n",
    "\n",
    "Оценка для area (известны первые $K - 1 = 12$ координат каждого вектора) равна: $ \\hat{A} = Z\\theta. $ "
   ]
  },
  {
   "cell_type": "code",
   "execution_count": 4,
   "metadata": {},
   "outputs": [],
   "source": [
    "#Разделим данные в отношении 7:3 и построим \n",
    "#регрессионную модель по первой части выборки\n",
    "data_1 = data[:N*7//10]\n",
    "data_2 = data[N*7//10+1:]\n",
    "area_1 = area[:N*7//10]\n",
    "area_2 = area[N*7//10+1:]"
   ]
  },
  {
   "cell_type": "code",
   "execution_count": 5,
   "metadata": {},
   "outputs": [],
   "source": [
    "#функция вычисления оценки\n",
    "def estimate(z, x):    \n",
    "    Z = np.array(z)\n",
    "    X = np.array(x)\n",
    "    Z_T = Z.T\n",
    "    theta = np.linalg.inv(Z_T @ Z) @ Z_T @ X.T\n",
    "    return theta"
   ]
  },
  {
   "cell_type": "code",
   "execution_count": 6,
   "metadata": {},
   "outputs": [],
   "source": [
    "#функция вычисления ошибки\n",
    "def error(z, x, theta):\n",
    "    Z = np.array(z)\n",
    "    X = np.array(x)\n",
    "    \n",
    "    alpha = (np.array(X.T - Z @ theta))**2\n",
    "    return math.sqrt(alpha.sum()/(len(x) - 12))"
   ]
  },
  {
   "cell_type": "markdown",
   "metadata": {},
   "source": [
    "Посчитаем среднеквадратичную ошибку $\\hat{\\sigma} = \\frac{||X-Z\\hat{\\theta}||^2}{n-k}$ по второй части выборки."
   ]
  },
  {
   "cell_type": "code",
   "execution_count": 7,
   "metadata": {},
   "outputs": [
    {
     "name": "stdout",
     "output_type": "stream",
     "text": [
      "Среднеквадратичная ошибка:  32.730541756014794\n"
     ]
    }
   ],
   "source": [
    "theta_1 = estimate(data_1, area_1)\n",
    "err_1 = error(data_2, area_2, theta_1)\n",
    "print(\"Среднеквадратичная ошибка: \", err_1)"
   ]
  },
  {
   "cell_type": "markdown",
   "metadata": {},
   "source": [
    "Сделаем для area преобразование $f(x) = ln(x + c)$ и построим для нее новую регрессионную модель. Посчитаем среднеквадратичную ошибку для преобразованных значений. Найдем $c$, при котором среднеквадратичное отклонение минимально."
   ]
  },
  {
   "cell_type": "code",
   "execution_count": 8,
   "metadata": {},
   "outputs": [],
   "source": [
    "def estimate_2(z, x, c):    \n",
    "    Z = np.array(z)\n",
    "    X = np.array(x)\n",
    "    X = np.log(X + c)\n",
    "    Z_T = Z.T\n",
    "    \n",
    "    theta = np.linalg.inv(Z_T @ Z) @ Z_T @ X.T\n",
    "    return theta"
   ]
  },
  {
   "cell_type": "code",
   "execution_count": 9,
   "metadata": {},
   "outputs": [],
   "source": [
    "def error_2(z, x, theta):\n",
    "    Z = np.array(z)\n",
    "    X = np.array(x)\n",
    "    \n",
    "    alpha = (np.array(X.T - np.exp(Z @ theta) + c))**2\n",
    "    return math.sqrt(alpha.sum() / (len(x) - 12))"
   ]
  },
  {
   "cell_type": "code",
   "execution_count": 10,
   "metadata": {},
   "outputs": [
    {
     "data": {
      "image/png": "[encoded data removed]",
      "text/plain": [
       "<Figure size 1152x864 with 1 Axes>"
      ]
     },
     "metadata": {},
     "output_type": "display_data"
    },
    {
     "name": "stdout",
     "output_type": "stream",
     "text": [
      "Минимальная ошибка:  28.09630224983795\n",
      "c:  26.900000000000023\n"
     ]
    }
   ],
   "source": [
    "err = []\n",
    "\n",
    "min_err = np.inf\n",
    "for c in np.arange(1, 100, 0.1):\n",
    "    theta_2 = estimate_2(data_1, area_1, c)\n",
    "    err.append(error_2(data_2, area_2, theta_2))\n",
    "    if error_2(data_2, area_2, theta_2) < min_err:\n",
    "        min_err = error_2(data_2, area_2, theta_2)\n",
    "        min_c = c\n",
    " \n",
    "plt.figure(figsize = (16, 12))\n",
    "plt.plot(np.arange(1, 100, 0.1), err)\n",
    "plt.grid()\n",
    "plt.show()\n",
    "\n",
    "print(\"Минимальная ошибка: \", min_err)\n",
    "print(\"c: \", min_c)"
   ]
  },
  {
   "cell_type": "markdown",
   "metadata": {},
   "source": [
    "Разобьём выборку в соотношении 7:3 разными способами и найдем ошибки при полученном выше коэффициенте $c$."
   ]
  },
  {
   "cell_type": "code",
   "execution_count": 11,
   "metadata": {
    "scrolled": false
   },
   "outputs": [
    {
     "name": "stdout",
     "output_type": "stream",
     "text": [
      "85.025141236851\n",
      "106.25731424838564\n",
      "106.9057768714921\n",
      "80.05624186693143\n",
      "84.57832458221742\n",
      "87.97017584755108\n",
      "127.76706561358888\n",
      "83.64276791550256\n",
      "143.7585923917783\n",
      "127.8009448139947\n",
      "111.16608736765313\n",
      "110.05932431152557\n",
      "82.20821304571596\n",
      "83.42681535226268\n",
      "88.02003141507758\n",
      "87.72890633841547\n",
      "84.04286449285806\n",
      "145.5787823741524\n",
      "128.65954248667109\n",
      "83.26456829430948\n",
      "107.14394462572349\n",
      "84.59158061013676\n",
      "84.87323712516883\n",
      "75.87591345259722\n",
      "145.18721519439492\n",
      "149.09116410733813\n",
      "105.72798161585266\n",
      "88.08505668954564\n",
      "105.27704739232941\n",
      "105.33174674512705\n",
      "110.83747549077175\n",
      "106.61153237469573\n",
      "81.28593220156927\n",
      "80.92122436698071\n",
      "85.30687178316879\n",
      "89.30948608283585\n",
      "80.71336787243409\n",
      "143.85611458382462\n",
      "129.52166652323868\n",
      "85.9595521480829\n"
     ]
    }
   ],
   "source": [
    "for i in range(40):\n",
    "    data, area = get_shuffled_data()\n",
    "    data_1 = data[:N*7//10]\n",
    "    data_2 = data[N*7//10+1:]\n",
    "    area_1 = area[:N*7//10]\n",
    "    area_2 = area[N*7//10+1:]\n",
    "    theta_3 = estimate_2(data_1, area_1, min_c)\n",
    "    err = error_2(data_2, area_2, theta_3)\n",
    "    print(err)"
   ]
  },
  {
   "cell_type": "markdown",
   "metadata": {},
   "source": [
    "# Вывод:"
   ]
  },
  {
   "cell_type": "markdown",
   "metadata": {},
   "source": [
    "Ошибка, полученная при преобразовании $f(x)=ln(x+c)$ близка к ошибке на исходных непреобразованных данных.\n",
    "Видим, что в любом случае среднеквадратичное отклонение велико. К тому же, среднеквадратичное отклонение очень сильно зависит от способа разбиения, следовательно, линейную регрессию не следует применять в данном случае."
   ]
  }
 ],
 "metadata": {
  "kernelspec": {
   "display_name": "Python 3",
   "language": "python",
   "name": "python3"
  },
  "language_info": {
   "codemirror_mode": {
    "name": "ipython",
    "version": 3
   },
   "file_extension": ".py",
   "mimetype": "text/x-python",
   "name": "python",
   "nbconvert_exporter": "python",
   "pygments_lexer": "ipython3",
   "version": "3.6.5"
  }
 },
 "nbformat": 4,
 "nbformat_minor": 2
}
