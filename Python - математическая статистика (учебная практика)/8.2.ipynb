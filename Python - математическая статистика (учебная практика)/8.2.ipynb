{
 "cells": [
  {
   "cell_type": "code",
   "execution_count": 1,
   "metadata": {},
   "outputs": [],
   "source": [
    "import numpy as np\n",
    "import math as math\n",
    "import random\n",
    "import csv\n",
    "import matplotlib.pyplot as plt\n",
    "\n",
    "%matplotlib inline"
   ]
  },
  {
   "cell_type": "markdown",
   "metadata": {},
   "source": [
    "### 8.Линейная регрессия. Задача 2.\n",
    "Условие: Пусть $X_i = \\beta_1 + i\\beta_2 + \\varepsilon_0 + \\ldots + \\varepsilon_i$, где $i = 0, 1, \\ldots, n$ -- расстояния, которое проехал трамвай за $i$ секунд по показанию датчика. Здесь $\\beta_1$ - начальное раастояние, $\\beta_2$ - скорость трамвая, $\\varepsilon_0$ - ошибка начального показания датчика. Трамвай едет с постоянной скоростью, и через каждую секунду датчик фиксирует расстояние, которое проехал трамвай. Отсчет времени идет от предыдущего замера, причем отсчет идет с ошибкой. Для $i = 0, 1, \\ldots, n$ величина $\\varepsilon_i$, есть ошибка приращения растояния, то есть $\\varepsilon_i = \\varepsilon_i^t\\beta_2$, где $\\varepsilon_i^t$ - ошибка отсчета времени. Все ошибки $\\varepsilon_i$ независимы и распределены по закону $N(0, \\sigma^2)$.\n",
    "\n",
    "Сведите задачу к линейной модели и найдите оценки наименьших квадратов для начального расстояния $\\beta_1$ и скорости $\\beta_2$, а также несмещенную оценку для $\\sigma^2$, из которой выразите оценку дисперсии отсчета времени.\n",
    "\n",
    "Данные возьмите из файла Regression.csv. Сделайте выводы."
   ]
  },
  {
   "cell_type": "markdown",
   "metadata": {},
   "source": [
    "### Из теоретической задачи 8.2.\n",
    "\n",
    "$\\widehat{\\beta_1} = X_0$ <br><br>\n",
    "$\\widehat{\\beta_2} = \\frac{X_n - X_0}{n}$ <br><br>\n",
    "$\\widehat{\\sigma^2} = \\frac{1}{n-2} \\sum\\limits_{i=1}^n \\left( X_i - X_{i-1} - \\frac{X_n - X_0}{n} \\right)^2$ <br><br>\n",
    "\n",
    "Оценим дисперсию отсчета времени:\n",
    "\n",
    "$\\varepsilon_i \\sim N(0, \\sigma^2),$ <br>$ \\varepsilon_i^t = \\frac{\\varepsilon_i}{\\beta_2},\\space\\space значит,  \\space\\space \\varepsilon_i^t \\sim N(0, \\frac{\\sigma^2}{\\beta_2^2})$\n",
    "\n",
    "$\\hat{\\sigma_t^2} = \\frac{\\hat{\\sigma^2}}{\\hat{\\beta_2^2}}$"
   ]
  },
  {
   "cell_type": "code",
   "execution_count": 2,
   "metadata": {},
   "outputs": [],
   "source": [
    "#Cчитаем данные\n",
    "with open('Regression.csv', 'r') as file:\n",
    "    data = list(map(float, file))\n",
    "n = len(data) - 1"
   ]
  },
  {
   "cell_type": "code",
   "execution_count": 3,
   "metadata": {},
   "outputs": [],
   "source": [
    "#Оценки начального расстояния и скорости из теор.задачи\n",
    "beta_1 = data[0]\n",
    "beta_2 = (data[n] - data[0]) / n\n",
    "\n",
    "sigma = 0\n",
    "for i in range(1, len(data)):\n",
    "    sigma += (data[i] - data[i - 1] - (data[n] - data[0])/n)**2\n",
    "sigma /= (n-2)\n",
    "\n",
    "sigma_t = sigma / (beta_2**2)"
   ]
  },
  {
   "cell_type": "code",
   "execution_count": 4,
   "metadata": {},
   "outputs": [
    {
     "name": "stdout",
     "output_type": "stream",
     "text": [
      "beta_1:   82.0053\n",
      "beta_2:   11.970782982982982\n",
      "sigma:    1.5267747059886494\n",
      "sigma_t:  0.01065442069716372\n"
     ]
    }
   ],
   "source": [
    "print(\"beta_1:  \", beta_1)\n",
    "print(\"beta_2:  \", beta_2)\n",
    "print(\"sigma:   \", sigma)\n",
    "print(\"sigma_t: \", sigma_t)"
   ]
  },
  {
   "cell_type": "markdown",
   "metadata": {},
   "source": [
    "# Вывод:"
   ]
  },
  {
   "cell_type": "markdown",
   "metadata": {},
   "source": [
    "Результаты показывают, что линейная модель подходит для данной выборки. Это можно объяснить тем, что движение трамвая близко к равномерному, и скорость $\\beta_2$ можно оценить. Видно, что показания датчика довольно точные (дисперсия мала), а потому линейная модель дает хорошее приближение. "
   ]
  }
 ],
 "metadata": {
  "kernelspec": {
   "display_name": "Python 3",
   "language": "python",
   "name": "python3"
  },
  "language_info": {
   "codemirror_mode": {
    "name": "ipython",
    "version": 3
   },
   "file_extension": ".py",
   "mimetype": "text/x-python",
   "name": "python",
   "nbconvert_exporter": "python",
   "pygments_lexer": "ipython3",
   "version": "3.6.5"
  }
 },
 "nbformat": 4,
 "nbformat_minor": 2
}
